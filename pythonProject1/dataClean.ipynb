{
 "cells": [
  {
   "cell_type": "code",
   "execution_count": 1,
   "metadata": {
    "collapsed": true
   },
   "outputs": [],
   "source": [
    "# import the necessary packages\n",
    "import numpy as np\n",
    "import pandas as pd\n",
    "import matplotlib.pyplot as plt"
   ]
  },
  {
   "cell_type": "code",
   "execution_count": 74,
   "outputs": [
    {
     "data": {
      "text/plain": "                        index  Name\n0          Bavaria Cruiser 46    76\n1         Beneteau Oceanis 45    44\n2                 Jeanneau 53    43\n3  Jeanneau Sun Odyssey 54 DS    42\n4          Bavaria 50 Cruiser    40",
      "text/html": "<div>\n<style scoped>\n    .dataframe tbody tr th:only-of-type {\n        vertical-align: middle;\n    }\n\n    .dataframe tbody tr th {\n        vertical-align: top;\n    }\n\n    .dataframe thead th {\n        text-align: right;\n    }\n</style>\n<table border=\"1\" class=\"dataframe\">\n  <thead>\n    <tr style=\"text-align: right;\">\n      <th></th>\n      <th>index</th>\n      <th>Name</th>\n    </tr>\n  </thead>\n  <tbody>\n    <tr>\n      <th>0</th>\n      <td>Bavaria Cruiser 46</td>\n      <td>76</td>\n    </tr>\n    <tr>\n      <th>1</th>\n      <td>Beneteau Oceanis 45</td>\n      <td>44</td>\n    </tr>\n    <tr>\n      <th>2</th>\n      <td>Jeanneau 53</td>\n      <td>43</td>\n    </tr>\n    <tr>\n      <th>3</th>\n      <td>Jeanneau Sun Odyssey 54 DS</td>\n      <td>42</td>\n    </tr>\n    <tr>\n      <th>4</th>\n      <td>Bavaria 50 Cruiser</td>\n      <td>40</td>\n    </tr>\n  </tbody>\n</table>\n</div>"
     },
     "execution_count": 74,
     "metadata": {},
     "output_type": "execute_result"
    }
   ],
   "source": [
    "# load the dataset\n",
    "df = pd.read_csv('data/MonoName.csv')\n",
    "df.head()"
   ],
   "metadata": {
    "collapsed": false
   }
  },
  {
   "cell_type": "code",
   "execution_count": 75,
   "outputs": [],
   "source": [
    "df['Model'] = df['index']"
   ],
   "metadata": {
    "collapsed": false
   }
  },
  {
   "cell_type": "code",
   "execution_count": 76,
   "outputs": [
    {
     "data": {
      "text/plain": "                          index  Name                       Model\n0            Bavaria Cruiser 46    76          Bavaria Cruiser 46\n1           Beneteau Oceanis 45    44         Beneteau Oceanis 45\n2                   Jeanneau 53    43                 Jeanneau 53\n3    Jeanneau Sun Odyssey 54 DS    42  Jeanneau Sun Odyssey 54 DS\n4            Bavaria 50 Cruiser    40          Bavaria 50 Cruiser\n..                          ...   ...                         ...\n463                  Dufour 425     1                  Dufour 425\n464         Grand Soleil 37 B&C     1         Grand Soleil 37 B&C\n465         Grand Soleil 40 B&C     1         Grand Soleil 40 B&C\n466    Grand Soleil 46 Jezequel     1    Grand Soleil 46 Jezequel\n467               X-Yachts X4.6     1               X-Yachts X4.6\n\n[468 rows x 3 columns]",
      "text/html": "<div>\n<style scoped>\n    .dataframe tbody tr th:only-of-type {\n        vertical-align: middle;\n    }\n\n    .dataframe tbody tr th {\n        vertical-align: top;\n    }\n\n    .dataframe thead th {\n        text-align: right;\n    }\n</style>\n<table border=\"1\" class=\"dataframe\">\n  <thead>\n    <tr style=\"text-align: right;\">\n      <th></th>\n      <th>index</th>\n      <th>Name</th>\n      <th>Model</th>\n    </tr>\n  </thead>\n  <tbody>\n    <tr>\n      <th>0</th>\n      <td>Bavaria Cruiser 46</td>\n      <td>76</td>\n      <td>Bavaria Cruiser 46</td>\n    </tr>\n    <tr>\n      <th>1</th>\n      <td>Beneteau Oceanis 45</td>\n      <td>44</td>\n      <td>Beneteau Oceanis 45</td>\n    </tr>\n    <tr>\n      <th>2</th>\n      <td>Jeanneau 53</td>\n      <td>43</td>\n      <td>Jeanneau 53</td>\n    </tr>\n    <tr>\n      <th>3</th>\n      <td>Jeanneau Sun Odyssey 54 DS</td>\n      <td>42</td>\n      <td>Jeanneau Sun Odyssey 54 DS</td>\n    </tr>\n    <tr>\n      <th>4</th>\n      <td>Bavaria 50 Cruiser</td>\n      <td>40</td>\n      <td>Bavaria 50 Cruiser</td>\n    </tr>\n    <tr>\n      <th>...</th>\n      <td>...</td>\n      <td>...</td>\n      <td>...</td>\n    </tr>\n    <tr>\n      <th>463</th>\n      <td>Dufour 425</td>\n      <td>1</td>\n      <td>Dufour 425</td>\n    </tr>\n    <tr>\n      <th>464</th>\n      <td>Grand Soleil 37 B&amp;C</td>\n      <td>1</td>\n      <td>Grand Soleil 37 B&amp;C</td>\n    </tr>\n    <tr>\n      <th>465</th>\n      <td>Grand Soleil 40 B&amp;C</td>\n      <td>1</td>\n      <td>Grand Soleil 40 B&amp;C</td>\n    </tr>\n    <tr>\n      <th>466</th>\n      <td>Grand Soleil 46 Jezequel</td>\n      <td>1</td>\n      <td>Grand Soleil 46 Jezequel</td>\n    </tr>\n    <tr>\n      <th>467</th>\n      <td>X-Yachts X4.6</td>\n      <td>1</td>\n      <td>X-Yachts X4.6</td>\n    </tr>\n  </tbody>\n</table>\n<p>468 rows × 3 columns</p>\n</div>"
     },
     "execution_count": 76,
     "metadata": {},
     "output_type": "execute_result"
    }
   ],
   "source": [
    "df"
   ],
   "metadata": {
    "collapsed": false
   }
  },
  {
   "cell_type": "code",
   "execution_count": 77,
   "outputs": [],
   "source": [
    "df1 = pd.read_csv('data/additional_features_dataset.csv')"
   ],
   "metadata": {
    "collapsed": false
   }
  },
  {
   "cell_type": "code",
   "execution_count": 78,
   "outputs": [],
   "source": [
    "df2 = df"
   ],
   "metadata": {
    "collapsed": false
   }
  },
  {
   "cell_type": "code",
   "execution_count": 79,
   "outputs": [
    {
     "ename": "ValueError",
     "evalue": "Length of values (111) does not match length of index (468)",
     "output_type": "error",
     "traceback": [
      "\u001B[0;31m---------------------------------------------------------------------------\u001B[0m",
      "\u001B[0;31mValueError\u001B[0m                                Traceback (most recent call last)",
      "Input \u001B[0;32mIn [79]\u001B[0m, in \u001B[0;36m<cell line: 1>\u001B[0;34m()\u001B[0m\n\u001B[0;32m----> 1\u001B[0m df2[\u001B[38;5;124m'\u001B[39m\u001B[38;5;124mLength\u001B[39m\u001B[38;5;124m'\u001B[39m] \u001B[38;5;241m=\u001B[39m [\u001B[38;5;28;01mNone\u001B[39;00m \u001B[38;5;28;01mfor\u001B[39;00m _ \u001B[38;5;129;01min\u001B[39;00m \u001B[38;5;28mrange\u001B[39m(\u001B[38;5;241m111\u001B[39m)]\n\u001B[1;32m      2\u001B[0m df2[\u001B[38;5;124m'\u001B[39m\u001B[38;5;124mBeam\u001B[39m\u001B[38;5;124m'\u001B[39m] \u001B[38;5;241m=\u001B[39m [\u001B[38;5;28;01mNone\u001B[39;00m \u001B[38;5;28;01mfor\u001B[39;00m _ \u001B[38;5;129;01min\u001B[39;00m \u001B[38;5;28mrange\u001B[39m(\u001B[38;5;241m111\u001B[39m)]\n\u001B[1;32m      3\u001B[0m df2[\u001B[38;5;124m'\u001B[39m\u001B[38;5;124mDraft\u001B[39m\u001B[38;5;124m'\u001B[39m] \u001B[38;5;241m=\u001B[39m [\u001B[38;5;28;01mNone\u001B[39;00m \u001B[38;5;28;01mfor\u001B[39;00m _ \u001B[38;5;129;01min\u001B[39;00m \u001B[38;5;28mrange\u001B[39m(\u001B[38;5;241m111\u001B[39m)]\n",
      "File \u001B[0;32m/Library/Frameworks/Python.framework/Versions/3.9/lib/python3.9/site-packages/pandas/core/frame.py:3655\u001B[0m, in \u001B[0;36mDataFrame.__setitem__\u001B[0;34m(self, key, value)\u001B[0m\n\u001B[1;32m   3652\u001B[0m     \u001B[38;5;28mself\u001B[39m\u001B[38;5;241m.\u001B[39m_setitem_array([key], value)\n\u001B[1;32m   3653\u001B[0m \u001B[38;5;28;01melse\u001B[39;00m:\n\u001B[1;32m   3654\u001B[0m     \u001B[38;5;66;03m# set column\u001B[39;00m\n\u001B[0;32m-> 3655\u001B[0m     \u001B[38;5;28;43mself\u001B[39;49m\u001B[38;5;241;43m.\u001B[39;49m\u001B[43m_set_item\u001B[49m\u001B[43m(\u001B[49m\u001B[43mkey\u001B[49m\u001B[43m,\u001B[49m\u001B[43m \u001B[49m\u001B[43mvalue\u001B[49m\u001B[43m)\u001B[49m\n",
      "File \u001B[0;32m/Library/Frameworks/Python.framework/Versions/3.9/lib/python3.9/site-packages/pandas/core/frame.py:3832\u001B[0m, in \u001B[0;36mDataFrame._set_item\u001B[0;34m(self, key, value)\u001B[0m\n\u001B[1;32m   3822\u001B[0m \u001B[38;5;28;01mdef\u001B[39;00m \u001B[38;5;21m_set_item\u001B[39m(\u001B[38;5;28mself\u001B[39m, key, value) \u001B[38;5;241m-\u001B[39m\u001B[38;5;241m>\u001B[39m \u001B[38;5;28;01mNone\u001B[39;00m:\n\u001B[1;32m   3823\u001B[0m     \u001B[38;5;124;03m\"\"\"\u001B[39;00m\n\u001B[1;32m   3824\u001B[0m \u001B[38;5;124;03m    Add series to DataFrame in specified column.\u001B[39;00m\n\u001B[1;32m   3825\u001B[0m \n\u001B[0;32m   (...)\u001B[0m\n\u001B[1;32m   3830\u001B[0m \u001B[38;5;124;03m    ensure homogeneity.\u001B[39;00m\n\u001B[1;32m   3831\u001B[0m \u001B[38;5;124;03m    \"\"\"\u001B[39;00m\n\u001B[0;32m-> 3832\u001B[0m     value \u001B[38;5;241m=\u001B[39m \u001B[38;5;28;43mself\u001B[39;49m\u001B[38;5;241;43m.\u001B[39;49m\u001B[43m_sanitize_column\u001B[49m\u001B[43m(\u001B[49m\u001B[43mvalue\u001B[49m\u001B[43m)\u001B[49m\n\u001B[1;32m   3834\u001B[0m     \u001B[38;5;28;01mif\u001B[39;00m (\n\u001B[1;32m   3835\u001B[0m         key \u001B[38;5;129;01min\u001B[39;00m \u001B[38;5;28mself\u001B[39m\u001B[38;5;241m.\u001B[39mcolumns\n\u001B[1;32m   3836\u001B[0m         \u001B[38;5;129;01mand\u001B[39;00m value\u001B[38;5;241m.\u001B[39mndim \u001B[38;5;241m==\u001B[39m \u001B[38;5;241m1\u001B[39m\n\u001B[1;32m   3837\u001B[0m         \u001B[38;5;129;01mand\u001B[39;00m \u001B[38;5;129;01mnot\u001B[39;00m is_extension_array_dtype(value)\n\u001B[1;32m   3838\u001B[0m     ):\n\u001B[1;32m   3839\u001B[0m         \u001B[38;5;66;03m# broadcast across multiple columns if necessary\u001B[39;00m\n\u001B[1;32m   3840\u001B[0m         \u001B[38;5;28;01mif\u001B[39;00m \u001B[38;5;129;01mnot\u001B[39;00m \u001B[38;5;28mself\u001B[39m\u001B[38;5;241m.\u001B[39mcolumns\u001B[38;5;241m.\u001B[39mis_unique \u001B[38;5;129;01mor\u001B[39;00m \u001B[38;5;28misinstance\u001B[39m(\u001B[38;5;28mself\u001B[39m\u001B[38;5;241m.\u001B[39mcolumns, MultiIndex):\n",
      "File \u001B[0;32m/Library/Frameworks/Python.framework/Versions/3.9/lib/python3.9/site-packages/pandas/core/frame.py:4535\u001B[0m, in \u001B[0;36mDataFrame._sanitize_column\u001B[0;34m(self, value)\u001B[0m\n\u001B[1;32m   4532\u001B[0m     \u001B[38;5;28;01mreturn\u001B[39;00m _reindex_for_setitem(value, \u001B[38;5;28mself\u001B[39m\u001B[38;5;241m.\u001B[39mindex)\n\u001B[1;32m   4534\u001B[0m \u001B[38;5;28;01mif\u001B[39;00m is_list_like(value):\n\u001B[0;32m-> 4535\u001B[0m     \u001B[43mcom\u001B[49m\u001B[38;5;241;43m.\u001B[39;49m\u001B[43mrequire_length_match\u001B[49m\u001B[43m(\u001B[49m\u001B[43mvalue\u001B[49m\u001B[43m,\u001B[49m\u001B[43m \u001B[49m\u001B[38;5;28;43mself\u001B[39;49m\u001B[38;5;241;43m.\u001B[39;49m\u001B[43mindex\u001B[49m\u001B[43m)\u001B[49m\n\u001B[1;32m   4536\u001B[0m \u001B[38;5;28;01mreturn\u001B[39;00m sanitize_array(value, \u001B[38;5;28mself\u001B[39m\u001B[38;5;241m.\u001B[39mindex, copy\u001B[38;5;241m=\u001B[39m\u001B[38;5;28;01mTrue\u001B[39;00m, allow_2d\u001B[38;5;241m=\u001B[39m\u001B[38;5;28;01mTrue\u001B[39;00m)\n",
      "File \u001B[0;32m/Library/Frameworks/Python.framework/Versions/3.9/lib/python3.9/site-packages/pandas/core/common.py:557\u001B[0m, in \u001B[0;36mrequire_length_match\u001B[0;34m(data, index)\u001B[0m\n\u001B[1;32m    553\u001B[0m \u001B[38;5;124;03m\"\"\"\u001B[39;00m\n\u001B[1;32m    554\u001B[0m \u001B[38;5;124;03mCheck the length of data matches the length of the index.\u001B[39;00m\n\u001B[1;32m    555\u001B[0m \u001B[38;5;124;03m\"\"\"\u001B[39;00m\n\u001B[1;32m    556\u001B[0m \u001B[38;5;28;01mif\u001B[39;00m \u001B[38;5;28mlen\u001B[39m(data) \u001B[38;5;241m!=\u001B[39m \u001B[38;5;28mlen\u001B[39m(index):\n\u001B[0;32m--> 557\u001B[0m     \u001B[38;5;28;01mraise\u001B[39;00m \u001B[38;5;167;01mValueError\u001B[39;00m(\n\u001B[1;32m    558\u001B[0m         \u001B[38;5;124m\"\u001B[39m\u001B[38;5;124mLength of values \u001B[39m\u001B[38;5;124m\"\u001B[39m\n\u001B[1;32m    559\u001B[0m         \u001B[38;5;124mf\u001B[39m\u001B[38;5;124m\"\u001B[39m\u001B[38;5;124m(\u001B[39m\u001B[38;5;132;01m{\u001B[39;00m\u001B[38;5;28mlen\u001B[39m(data)\u001B[38;5;132;01m}\u001B[39;00m\u001B[38;5;124m) \u001B[39m\u001B[38;5;124m\"\u001B[39m\n\u001B[1;32m    560\u001B[0m         \u001B[38;5;124m\"\u001B[39m\u001B[38;5;124mdoes not match length of index \u001B[39m\u001B[38;5;124m\"\u001B[39m\n\u001B[1;32m    561\u001B[0m         \u001B[38;5;124mf\u001B[39m\u001B[38;5;124m\"\u001B[39m\u001B[38;5;124m(\u001B[39m\u001B[38;5;132;01m{\u001B[39;00m\u001B[38;5;28mlen\u001B[39m(index)\u001B[38;5;132;01m}\u001B[39;00m\u001B[38;5;124m)\u001B[39m\u001B[38;5;124m\"\u001B[39m\n\u001B[1;32m    562\u001B[0m     )\n",
      "\u001B[0;31mValueError\u001B[0m: Length of values (111) does not match length of index (468)"
     ]
    }
   ],
   "source": [
    "df2['Length'] = [None for _ in range(111)]\n",
    "df2['Beam'] = [None for _ in range(111)]\n",
    "df2['Draft'] = [None for _ in range(111)]\n",
    "df2['Material'] = [None for _ in range(111)]\n",
    "df2['Hull'] = [None for _ in range(111)]\n",
    "df2['Rigging'] = [None for _ in range(111)]\n",
    "df2['Cabins'] = [None for _ in range(111)]"
   ],
   "metadata": {
    "collapsed": false
   }
  },
  {
   "cell_type": "code",
   "execution_count": 80,
   "outputs": [
    {
     "data": {
      "text/plain": "Index(['index', 'Name', 'Model'], dtype='object')"
     },
     "execution_count": 80,
     "metadata": {},
     "output_type": "execute_result"
    }
   ],
   "source": [
    "\n",
    "df2.columns"
   ],
   "metadata": {
    "collapsed": false
   }
  },
  {
   "cell_type": "code",
   "execution_count": 81,
   "outputs": [
    {
     "data": {
      "text/plain": "                          index  Name                       Model\n0            Bavaria Cruiser 46    76          Bavaria Cruiser 46\n1           Beneteau Oceanis 45    44         Beneteau Oceanis 45\n2                   Jeanneau 53    43                 Jeanneau 53\n3    Jeanneau Sun Odyssey 54 DS    42  Jeanneau Sun Odyssey 54 DS\n4            Bavaria 50 Cruiser    40          Bavaria 50 Cruiser\n..                          ...   ...                         ...\n463                  Dufour 425     1                  Dufour 425\n464         Grand Soleil 37 B&C     1         Grand Soleil 37 B&C\n465         Grand Soleil 40 B&C     1         Grand Soleil 40 B&C\n466    Grand Soleil 46 Jezequel     1    Grand Soleil 46 Jezequel\n467               X-Yachts X4.6     1               X-Yachts X4.6\n\n[468 rows x 3 columns]",
      "text/html": "<div>\n<style scoped>\n    .dataframe tbody tr th:only-of-type {\n        vertical-align: middle;\n    }\n\n    .dataframe tbody tr th {\n        vertical-align: top;\n    }\n\n    .dataframe thead th {\n        text-align: right;\n    }\n</style>\n<table border=\"1\" class=\"dataframe\">\n  <thead>\n    <tr style=\"text-align: right;\">\n      <th></th>\n      <th>index</th>\n      <th>Name</th>\n      <th>Model</th>\n    </tr>\n  </thead>\n  <tbody>\n    <tr>\n      <th>0</th>\n      <td>Bavaria Cruiser 46</td>\n      <td>76</td>\n      <td>Bavaria Cruiser 46</td>\n    </tr>\n    <tr>\n      <th>1</th>\n      <td>Beneteau Oceanis 45</td>\n      <td>44</td>\n      <td>Beneteau Oceanis 45</td>\n    </tr>\n    <tr>\n      <th>2</th>\n      <td>Jeanneau 53</td>\n      <td>43</td>\n      <td>Jeanneau 53</td>\n    </tr>\n    <tr>\n      <th>3</th>\n      <td>Jeanneau Sun Odyssey 54 DS</td>\n      <td>42</td>\n      <td>Jeanneau Sun Odyssey 54 DS</td>\n    </tr>\n    <tr>\n      <th>4</th>\n      <td>Bavaria 50 Cruiser</td>\n      <td>40</td>\n      <td>Bavaria 50 Cruiser</td>\n    </tr>\n    <tr>\n      <th>...</th>\n      <td>...</td>\n      <td>...</td>\n      <td>...</td>\n    </tr>\n    <tr>\n      <th>463</th>\n      <td>Dufour 425</td>\n      <td>1</td>\n      <td>Dufour 425</td>\n    </tr>\n    <tr>\n      <th>464</th>\n      <td>Grand Soleil 37 B&amp;C</td>\n      <td>1</td>\n      <td>Grand Soleil 37 B&amp;C</td>\n    </tr>\n    <tr>\n      <th>465</th>\n      <td>Grand Soleil 40 B&amp;C</td>\n      <td>1</td>\n      <td>Grand Soleil 40 B&amp;C</td>\n    </tr>\n    <tr>\n      <th>466</th>\n      <td>Grand Soleil 46 Jezequel</td>\n      <td>1</td>\n      <td>Grand Soleil 46 Jezequel</td>\n    </tr>\n    <tr>\n      <th>467</th>\n      <td>X-Yachts X4.6</td>\n      <td>1</td>\n      <td>X-Yachts X4.6</td>\n    </tr>\n  </tbody>\n</table>\n<p>468 rows × 3 columns</p>\n</div>"
     },
     "execution_count": 81,
     "metadata": {},
     "output_type": "execute_result"
    }
   ],
   "source": [
    "df2"
   ],
   "metadata": {
    "collapsed": false
   }
  },
  {
   "cell_type": "code",
   "execution_count": 82,
   "outputs": [
    {
     "data": {
      "text/plain": "array(['Bavaria Cruiser 46', 'Beneteau Oceanis 45', 'Jeanneau 53',\n       'Jeanneau Sun Odyssey 54 DS', 'Bavaria 50 Cruiser',\n       'Beneteau Oceanis 50', 'Beneteau Oceanis 40',\n       'Beneteau Oceanis 43', 'Bavaria 51 Cruiser', 'Bavaria 56 Cruiser',\n       'Jeanneau Sun Odyssey 50 DS', 'Bavaria 40 Cruiser',\n       'Jeanneau Sun Odyssey 45', 'Jeanneau Sun Odyssey 439',\n       'Jeanneau Sun Odyssey 409', 'Beneteau Cyclades 39.3',\n       'Jeanneau Sun Odyssey 469', 'Hanse 455', 'Beneteau Oceanis 41',\n       'Beneteau Oceanis 48', 'Beneteau Oceanis 46',\n       'Jeanneau Sun Odyssey 42i', 'Bavaria 41 Cruiser',\n       'Bavaria 39 Cruiser', 'Hunter 38', 'Jeanneau Sun Odyssey 509',\n       'Beneteau Oceanis 54', 'Beneteau Cyclades 50.5',\n       'Jeanneau Sun Odyssey 39i', 'Bavaria 45 Cruiser', 'Hanse 445',\n       'Dufour 460 GL', 'Jeanneau Sun Odyssey 45 DS',\n       'Jeanneau Sun Odyssey 49i', 'Hanse 400', 'Elan Impression 434',\n       'Beneteau Oceanis 55', 'Jeanneau Sun Odyssey 49 DS',\n       'Jeanneau Sun Odyssey 44i', 'Grand Soleil 50', 'Hanse 415',\n       'Hanse 505', 'Jeanneau Sun Odyssey 42 DS', 'Beneteau Oceanis 38',\n       'Jeanneau Sun Odyssey 419', 'Hunter 41 DS',\n       'Jeanneau Sun Odyssey 49', 'Jeanneau Sun Odyssey 519',\n       'Beneteau Sense 50', 'Jeanneau Sun Odyssey 389',\n       'Jeanneau Sun Odyssey 40.3', 'Beneteau Oceanis 423',\n       'Dufour 455 GL', 'Bavaria 42 Cruiser', 'Hanse 540e',\n       'Beneteau First 40', 'Bavaria 38 Cruiser', 'Beneteau First 50',\n       'Beneteau Cyclades 43.4', 'Bavaria 40S Cruiser', 'J Boats J 122',\n       'Beneteau First 44.7', 'Jeanneau Sun Odyssey 449', 'Hanse 461',\n       'Grand Soleil 45', 'Hanse 470e', 'Elan 450', 'Elan 45 Impression',\n       'Beneteau Oceanis 473', 'Hanse 430e', 'Jeanneau Sun Odyssey 479',\n       'Beneteau First 45', 'Catalina 445', 'Jeanneau Sun Odyssey 440',\n       'Wauquiez Centurion 40s', 'Dufour 460', 'Comar Comet 41S',\n       'Dufour 525 GL', 'Dufour 410 GL', 'Hanse 495',\n       'Jeanneau Sun Odyssey 39 DS', 'Bavaria Vision 46',\n       'Jeanneau Sun Odyssey 44 DS', 'Beneteau Oceanis Clipper 423',\n       'Dufour 412', 'Beneteau 43', 'Beneteau Oceanis Clipper 523',\n       'Grand Soleil 43', 'Beneteau Oceanis 49', 'Elan Impression 45',\n       'Hunter 49', 'Dufour 412 GL', 'Catalina Morgan 440',\n       'Dufour 405 GL', 'Elan 444 Impression', 'Dufour 445 GL',\n       'Elan 50 Impression', 'Hanse 470', 'Hunter 45 Center Cockpit',\n       'Elan 40 Impression', 'Archambault 40 RC', 'X-Yachts X-40',\n       'Beneteau Cyclades 43.3', 'Beneteau Oceanis 51.1',\n       'Beneteau Oceanis 523', 'Hanse 411', 'Hanse 531', 'Tartan 4300',\n       'Catalina 42 MK II', 'Island Packet 440', 'X-Yachts XP50',\n       'Beneteau Oceanis 38.1', 'X-Yachts Xp 44', 'Grand Soleil 54',\n       'Beneteau Oceanis 41.1', 'Dufour 500 GL', 'Dufour 485 GL',\n       'Salona 45', 'Elan Impression 384', 'Dehler 41',\n       'Hallberg-Rassy 54', 'C&C 115', 'Delphia 40', 'Dufour 385 GL',\n       'Dehler 46', 'Dufour 455', 'Grand Soleil 39', 'Dufour 520',\n       'Dufour 425 GL', 'Sly 53', 'Maxi 1300', 'Elan Impression 50',\n       'Catalina 470', 'Grand Soleil 56', 'Sabre 426',\n       'Jeanneau Sun Odyssey 490', 'Comar Comet 52 RS', 'Dufour 450 GL',\n       'Comar Comet 45s', 'Dufour 430 GL', 'Beneteau Oceanis 46.1',\n       'Elan Impression 40', 'Hanse 548', 'Beneteau Oceanis 50 Family',\n       'Beneteau Oceanis 50.5', 'Jeanneau Sun Odyssey 53', 'Catalina 387',\n       'X-Yachts X-50', 'Dufour 45e Performance', 'Beneteau 423',\n       'Jeanneau 51', 'Beneteau Oceanis Clipper 473',\n       'Beneteau First 40.7', 'Dufour 40 Performance', 'Grand Soleil 40',\n       'Bavaria 42 Match', 'Bavaria 47 Cruiser', 'Oyster 54',\n       'Hallberg-Rassy 40', 'Island Packet 465', 'X-Yachts Xp 38',\n       'Island Packet SP Cruiser', 'Dehler 42', 'Hanse 575',\n       'Catalina 385', 'X-Yachts Xc 50', 'Tofinou 12',\n       'Poncin harmony 52', 'Hunter 50 Center Cockpit', 'Grand Soleil 46',\n       'Dufour 40e Performance', 'Triplast Y 40', 'Moody 45 DS',\n       'Grand Soleil 46 LC', 'Dufour 382 GL', 'Hylas 46',\n       'Alubat Ovni 395', 'Hanse 540', 'Bavaria 44 Vision',\n       'Wauquiez Pilot Saloon 47', 'Wauquiez Pilot Saloon 41',\n       'Wauquiez Pilot Saloon 48', 'Island Packet 485', 'Hanse 400e',\n       'Bavaria Cruiser 50', 'Amel 54', 'Bavaria C45 Holiday',\n       'Tartan 4400', 'Beneteau Oceanis 55.1', 'Dufour 520 GL',\n       'Hanse 418', 'Jeanneau Sun Odyssey 43 DS', 'Hunter 44',\n       'Hunter 44 DS', 'Dufour 385', 'Cabo Rico 42', 'Allures 44',\n       'Dufour 410', 'Dehler 47', 'Dufour 512 GL', 'Dufour 485',\n       'Elan 410', 'Hanse 430', 'Nauticat 441', 'Beneteau Sense 43',\n       'Moody 45 Classic', 'Hallberg-Rassy 412', 'Hunter 41 Deck Salon',\n       'Hunter 50', 'Hanse 508', 'Beneteau Sense 55', 'Contest 42CS',\n       'Hallberg-Rassy 43', 'Elan 434 Impression', 'Bestevaer 49ST',\n       'Beneteau America 50', 'Beneteau Oceanis 43 Family', 'Solaris 48',\n       'Vismara V50', 'Beneteau First 40 CR', 'Jeanneau Sun Odyssey 41DS',\n       'Contest 45CS', 'RM Yachts rm 12.60', 'Poncin HARMONY 47',\n       'ShearWater 39', 'Salona 38', 'Jeanneau Sun Odyssey 42',\n       'Southerly 38', 'Salona 44', 'X-Yachts Xc 42', 'Dehler 47 SQ',\n       'Hunter 39', 'Hunter 40', 'Island Packet 420', 'Dufour 390',\n       'Beneteau Oceanis 46 Family', 'Beneteau 523',\n       'Elan 494 Impression', 'Discovery 55', 'Elan Impression 494',\n       'Jeanneau Sun Odyssey 49 Owners Version', 'Solaris 44',\n       'Jeanneau Sun Odyssey 42i Performance', 'Southerly 420',\n       'Hunter 45 DS', 'Catalina 42 Mk II', 'Rustler 42', 'Beneteau 56',\n       'Sly 42', 'Caliber 47 LRC SE', 'Comar Comet 45S', 'X-Yachts X-46',\n       'X-Yachts 41', 'Vismara V52', 'Bavaria 49 Cruiser', 'Oyster 475',\n       'Jeanneau Sun Odyssey 49i Performance', 'Tofinou 16',\n       'Passport Vista 545 Center Cockpit', 'Elan 514 IMPRESSION',\n       'Hunter 45cc', 'Island Packet 445', 'Dehler 39 SQ', 'Zuanelli 40',\n       'Dufour 44 Performance', 'Dufour 500', 'Dufour 44', 'Elan 50',\n       'Dehler 41 CR', 'Malo 40', 'Passport 470 Center Cockpit',\n       'Morris M42', 'RM Yachts RM 1270', 'Jeanneau Sun Odyssey 410',\n       'X-Yachts X4', 'Hanse 388', 'Dufour 445',\n       'Jeanneau Sun Odyssey 40.9', 'Dufour 520 GL Owner Version',\n       'Nauticat 42', 'Grand Soleil 47', 'Elan GT5', 'Dufour 380',\n       'Hunter M-H 40', 'Beneteau Moorings 42.3', 'Dufour 430',\n       'Salona S380', 'RM Yachts RM 12.70', 'Wauquiez Pilot Saloon 42',\n       'Southerly 48', 'X-Yachts X 4.3', 'Elan Impression 444',\n       'Beneteau Moorings 43.5', 'Grand Soleil 43 Maletto - GS 43',\n       'Salona 42', 'Vismara V50 Mills', 'Dufour 460 Performance',\n       'Catalina 425', 'B-Yachts Brenta B42', 'Boreal 47',\n       'Beneteau 41.1', 'Bavaria 51 Cruiser Style', 'Bavaria Cruiser 46S',\n       'Azuree 46', 'Salona S41', 'Passport 545 Aft Cockpit',\n       'Vismara V50 DS', 'Dufour 56 Exclusive', 'Nautor Swan 54',\n       'Nautor Swan ClubSwan 50', 'Moody 54', 'Maxi 1200', 'Hanse 385',\n       'Jeanneau Sun Odyessy 41DS', 'Jeanneau 469', 'Morris M42X',\n       'Elan 40 E5', 'Dehler Varianta 44', 'Solaris 42', 'Oyster 545',\n       'Van De Stadt Norman 41', 'Wauquiez Opium 39', 'Beneteau Sense 51',\n       'Bavaria Cruiser 46 Style', 'Bavaria 42 Vision', 'Solaris 50',\n       'Nautor Swan 50', 'Najad 505', 'Boreal 44', 'X-Yachts Xc 38',\n       'Van De Stadt Stainless Steel Cutter', 'Hanse 588', 'Dehler 37',\n       'Dehler 38 Competition', 'Dufour 450 Liberty version',\n       'RM Yachts 1260', 'Hallberg-Rassy 44', 'Southerly 535',\n       'Grand Soleil 43 Maletto', 'Sunbeam 42.1', 'Elan 394 Impression',\n       'Alliage AZZURO 53', 'Delphia 46 cc', 'Sabre 386',\n       'Catalina Morgan 440 DS Sloop', 'Harmony 38', 'Harmony 47',\n       'Hunter 380', 'Hunter 41', 'Hunter 44 Deck Salon',\n       'Jeanneau Sun Odyssey 48 DS',\n       'Jeanneau Sun Odyssey 49 Owners version', 'Najad 440 CC',\n       'Nordship DSC 38', 'Oyster 46', 'Passport 470',\n       'Passport Vista 515 Center Cockpit', 'Tayana 48',\n       'Beneteau Oceanis 523 A', 'X-Yachts X-43', 'X-Yachts 50',\n       'Zuanelli 52 DH', 'Alubat CIGALE 16', 'Bavaria 46 Cruiser',\n       'Beneteau Cyclades 43', 'Beneteau Oceanis 46 Owner Version',\n       'Bestevaer 53ST', 'Caliber 47LRC', 'Contest 50CS', 'Contest 55CS',\n       'Dehler 44', 'Dehler 44 SQ', 'Catalina 400 MK II',\n       'Beneteau Oceanis 51', 'Beneteau OCEANIS 55',\n       'Jeanneau SUN ODYSSEY 40.3', 'Beneteau First 47.7', 'C&C 121',\n       'Caliber 40 LRC SE', 'Comar Comet 51S', 'Dufour 40',\n       'Grand Soleil 45 RACING', 'Harmony 42 Elegance',\n       'Hunter 41 Aft Cockpit', 'Hunter Passage 456', 'Hunter 466',\n       'Hylas 49', 'Island Packet 370', 'Jeanneau Sun Odyssey 40',\n       'Malo 43 Classic', 'Alliage 44', 'Malo 46', 'Moody 49',\n       'Morris Ocean Series 48', 'Najad 380', 'Nauticat 385',\n       'Nauticat 44', 'Salona 40', 'Sunbeam 39', 'Sunbeam 53',\n       'Sweden Yachts 42', 'Van De Stadt Beluga 46',\n       'Wauquiez Pilot Saloon 40', 'X-Yachts 40', 'Grand Soleil 43 BC',\n       'J boats J 122', 'Jeanneau Sun Odyssey 39i Performance',\n       'Dufour 405', 'RM Yachts RM 1200', 'Solaris 48 ONE',\n       'Southerly 42 RST', 'Dufour 40e', 'Hunter OV', 'Hunter AC 50',\n       'Moody 45 DS e', 'Solaris One 44', 'Vismara 54', 'Azuree 40',\n       'Beneteau Oceanis 50 F G5', 'Catalina 375', 'Dehler 45',\n       'Dufour 45 Performance', 'Jeanneau 42 DS',\n       'Grand Soleil 56 EXTREME', 'Rustler 44', 'Sabre 456 MK II',\n       'Sly 48C', 'Tartan 4000', 'Beneteau Sense 46',\n       'Elan IMPRESSION 394', 'Hallberg-Rassy 48', 'Hanse 545',\n       'Jeanneau 409', 'Jeanneau 509', 'Sly 47',\n       'Beneteau Oceanis 41 Owners Version', 'Nordship 380DS',\n       'Nauticat 441 Ketch', 'Malo 40 classic',\n       'Grand Soleil 48 Ocean Cruiser',\n       'Jeanneau Sun Odyssey 45 Performance', 'Jeanneau Sun Odyssey 49DS',\n       'Malo 40 Classic MK Il', 'Nautor Swan 46', 'Oyster 53',\n       'Southerly 135', 'Sweden Yachts 45', 'Tayana Pilothouse',\n       'Tayana 52 DS', 'Vismara 52 Carbon', 'X-Yachts X-55',\n       'Beneteau Oceanis 43.4', 'Beneteau First 50 Sport',\n       'Comar Comet 450', 'Hanse 400 Epoxy', 'Jeanneau 39i',\n       'Jeanneau 45 Sun Odyssey Performance', 'Jeanneau 49i',\n       'Sweden Yachts 54', 'X-Yachts X-41 One Design',\n       'X-Yachts X-50 Modern', 'Beneteau 40', 'B-Yachts 38', 'Dufour 425',\n       'Grand Soleil 37 B&C', 'Grand Soleil 40 B&C',\n       'Grand Soleil 46 Jezequel', 'X-Yachts X4.6'], dtype=object)"
     },
     "execution_count": 82,
     "metadata": {},
     "output_type": "execute_result"
    }
   ],
   "source": [
    "types = df2['index'].unique()\n",
    "types"
   ],
   "metadata": {
    "collapsed": false
   }
  },
  {
   "cell_type": "code",
   "execution_count": 83,
   "outputs": [
    {
     "ename": "KeyError",
     "evalue": "'Length'",
     "output_type": "error",
     "traceback": [
      "\u001B[0;31m---------------------------------------------------------------------------\u001B[0m",
      "\u001B[0;31mKeyError\u001B[0m                                  Traceback (most recent call last)",
      "File \u001B[0;32m/Library/Frameworks/Python.framework/Versions/3.9/lib/python3.9/site-packages/pandas/core/indexes/base.py:3621\u001B[0m, in \u001B[0;36mIndex.get_loc\u001B[0;34m(self, key, method, tolerance)\u001B[0m\n\u001B[1;32m   3620\u001B[0m \u001B[38;5;28;01mtry\u001B[39;00m:\n\u001B[0;32m-> 3621\u001B[0m     \u001B[38;5;28;01mreturn\u001B[39;00m \u001B[38;5;28;43mself\u001B[39;49m\u001B[38;5;241;43m.\u001B[39;49m\u001B[43m_engine\u001B[49m\u001B[38;5;241;43m.\u001B[39;49m\u001B[43mget_loc\u001B[49m\u001B[43m(\u001B[49m\u001B[43mcasted_key\u001B[49m\u001B[43m)\u001B[49m\n\u001B[1;32m   3622\u001B[0m \u001B[38;5;28;01mexcept\u001B[39;00m \u001B[38;5;167;01mKeyError\u001B[39;00m \u001B[38;5;28;01mas\u001B[39;00m err:\n",
      "File \u001B[0;32mpandas/_libs/index.pyx:136\u001B[0m, in \u001B[0;36mpandas._libs.index.IndexEngine.get_loc\u001B[0;34m()\u001B[0m\n",
      "File \u001B[0;32mpandas/_libs/index.pyx:163\u001B[0m, in \u001B[0;36mpandas._libs.index.IndexEngine.get_loc\u001B[0;34m()\u001B[0m\n",
      "File \u001B[0;32mpandas/_libs/hashtable_class_helper.pxi:5198\u001B[0m, in \u001B[0;36mpandas._libs.hashtable.PyObjectHashTable.get_item\u001B[0;34m()\u001B[0m\n",
      "File \u001B[0;32mpandas/_libs/hashtable_class_helper.pxi:5206\u001B[0m, in \u001B[0;36mpandas._libs.hashtable.PyObjectHashTable.get_item\u001B[0;34m()\u001B[0m\n",
      "\u001B[0;31mKeyError\u001B[0m: 'Length'",
      "\nThe above exception was the direct cause of the following exception:\n",
      "\u001B[0;31mKeyError\u001B[0m                                  Traceback (most recent call last)",
      "Input \u001B[0;32mIn [83]\u001B[0m, in \u001B[0;36m<cell line: 2>\u001B[0;34m()\u001B[0m\n\u001B[1;32m      3\u001B[0m \u001B[38;5;28;01mfor\u001B[39;00m j \u001B[38;5;129;01min\u001B[39;00m \u001B[38;5;28mrange\u001B[39m(\u001B[38;5;28mlen\u001B[39m(df1)):\n\u001B[1;32m      4\u001B[0m     \u001B[38;5;28;01mif\u001B[39;00m df2[\u001B[38;5;124m'\u001B[39m\u001B[38;5;124mModel\u001B[39m\u001B[38;5;124m'\u001B[39m][i] \u001B[38;5;241m==\u001B[39m df1[\u001B[38;5;124m'\u001B[39m\u001B[38;5;124mModel\u001B[39m\u001B[38;5;124m'\u001B[39m][j]:\n\u001B[0;32m----> 5\u001B[0m         \u001B[43mdf2\u001B[49m\u001B[43m[\u001B[49m\u001B[38;5;124;43m'\u001B[39;49m\u001B[38;5;124;43mLength\u001B[39;49m\u001B[38;5;124;43m'\u001B[39;49m\u001B[43m]\u001B[49m[j] \u001B[38;5;241m=\u001B[39m df1[\u001B[38;5;124m'\u001B[39m\u001B[38;5;124mLength\u001B[39m\u001B[38;5;124m'\u001B[39m][i]\n\u001B[1;32m      6\u001B[0m         df2[\u001B[38;5;124m'\u001B[39m\u001B[38;5;124mBeam\u001B[39m\u001B[38;5;124m'\u001B[39m][j] \u001B[38;5;241m=\u001B[39m df1[\u001B[38;5;124m'\u001B[39m\u001B[38;5;124mBeam\u001B[39m\u001B[38;5;124m'\u001B[39m][i]\n\u001B[1;32m      7\u001B[0m         df2[\u001B[38;5;124m'\u001B[39m\u001B[38;5;124mDraft\u001B[39m\u001B[38;5;124m'\u001B[39m][j] \u001B[38;5;241m=\u001B[39m df1[\u001B[38;5;124m'\u001B[39m\u001B[38;5;124mDraft\u001B[39m\u001B[38;5;124m'\u001B[39m][i]\n",
      "File \u001B[0;32m/Library/Frameworks/Python.framework/Versions/3.9/lib/python3.9/site-packages/pandas/core/frame.py:3505\u001B[0m, in \u001B[0;36mDataFrame.__getitem__\u001B[0;34m(self, key)\u001B[0m\n\u001B[1;32m   3503\u001B[0m \u001B[38;5;28;01mif\u001B[39;00m \u001B[38;5;28mself\u001B[39m\u001B[38;5;241m.\u001B[39mcolumns\u001B[38;5;241m.\u001B[39mnlevels \u001B[38;5;241m>\u001B[39m \u001B[38;5;241m1\u001B[39m:\n\u001B[1;32m   3504\u001B[0m     \u001B[38;5;28;01mreturn\u001B[39;00m \u001B[38;5;28mself\u001B[39m\u001B[38;5;241m.\u001B[39m_getitem_multilevel(key)\n\u001B[0;32m-> 3505\u001B[0m indexer \u001B[38;5;241m=\u001B[39m \u001B[38;5;28;43mself\u001B[39;49m\u001B[38;5;241;43m.\u001B[39;49m\u001B[43mcolumns\u001B[49m\u001B[38;5;241;43m.\u001B[39;49m\u001B[43mget_loc\u001B[49m\u001B[43m(\u001B[49m\u001B[43mkey\u001B[49m\u001B[43m)\u001B[49m\n\u001B[1;32m   3506\u001B[0m \u001B[38;5;28;01mif\u001B[39;00m is_integer(indexer):\n\u001B[1;32m   3507\u001B[0m     indexer \u001B[38;5;241m=\u001B[39m [indexer]\n",
      "File \u001B[0;32m/Library/Frameworks/Python.framework/Versions/3.9/lib/python3.9/site-packages/pandas/core/indexes/base.py:3623\u001B[0m, in \u001B[0;36mIndex.get_loc\u001B[0;34m(self, key, method, tolerance)\u001B[0m\n\u001B[1;32m   3621\u001B[0m     \u001B[38;5;28;01mreturn\u001B[39;00m \u001B[38;5;28mself\u001B[39m\u001B[38;5;241m.\u001B[39m_engine\u001B[38;5;241m.\u001B[39mget_loc(casted_key)\n\u001B[1;32m   3622\u001B[0m \u001B[38;5;28;01mexcept\u001B[39;00m \u001B[38;5;167;01mKeyError\u001B[39;00m \u001B[38;5;28;01mas\u001B[39;00m err:\n\u001B[0;32m-> 3623\u001B[0m     \u001B[38;5;28;01mraise\u001B[39;00m \u001B[38;5;167;01mKeyError\u001B[39;00m(key) \u001B[38;5;28;01mfrom\u001B[39;00m \u001B[38;5;21;01merr\u001B[39;00m\n\u001B[1;32m   3624\u001B[0m \u001B[38;5;28;01mexcept\u001B[39;00m \u001B[38;5;167;01mTypeError\u001B[39;00m:\n\u001B[1;32m   3625\u001B[0m     \u001B[38;5;66;03m# If we have a listlike key, _check_indexing_error will raise\u001B[39;00m\n\u001B[1;32m   3626\u001B[0m     \u001B[38;5;66;03m#  InvalidIndexError. Otherwise we fall through and re-raise\u001B[39;00m\n\u001B[1;32m   3627\u001B[0m     \u001B[38;5;66;03m#  the TypeError.\u001B[39;00m\n\u001B[1;32m   3628\u001B[0m     \u001B[38;5;28mself\u001B[39m\u001B[38;5;241m.\u001B[39m_check_indexing_error(key)\n",
      "\u001B[0;31mKeyError\u001B[0m: 'Length'"
     ]
    }
   ],
   "source": [
    "# compare the two datasets and add the missing values\n",
    "for i in range(len(df2)):\n",
    "    for j in range(len(df1)):\n",
    "        if df2['Model'][i] == df1['Model'][j]:\n",
    "            df2['Length'][j] = df1['Length'][i]\n",
    "            df2['Beam'][j] = df1['Beam'][i]\n",
    "            df2['Draft'][j] = df1['Draft'][i]\n",
    "            df2['Material'][j] = df1['Material'][i]\n",
    "            df2['Hull'][j] = df1['Hull'][i]\n",
    "            df2['Rigging'][j] = df1['Rigging'][i]\n",
    "            df2['Cabins'][j] = df1['Cabins'][i]\n",
    "            break"
   ],
   "metadata": {
    "collapsed": false
   }
  },
  {
   "cell_type": "code",
   "execution_count": 84,
   "outputs": [],
   "source": [
    "# Loop over the rows in df2\n",
    "for i in range(len(df2)):\n",
    "    # Check if the model in df2 is in df1\n",
    "    if df2['Model'][i] in df1['Model'].values:\n",
    "        # Get the matching row(s) in df1\n",
    "        match = df1[df1['Model'] == df2['Model'][i]]\n",
    "        # Update the columns of df2 with the values from df1\n",
    "        df2.at[i, 'Length'] = match['Length'].values[0]\n",
    "        df2.at[i, 'Beam'] = match['Beam'].values[0]\n",
    "        df2.at[i, 'Draft'] = match['Draft'].values[0]\n",
    "        df2.at[i, 'Material'] = match['Material'].values[0]\n",
    "        df2.at[i, 'Hull'] = match['Hull'].values[0]\n",
    "        df2.at[i, 'Rigging'] = match['Rigging'].values[0]\n",
    "        df2.at[i, 'Cabins'] = match['Cabins'].values[0]\n"
   ],
   "metadata": {
    "collapsed": false
   }
  },
  {
   "cell_type": "code",
   "execution_count": 86,
   "outputs": [],
   "source": [
    "df2.to_csv('data/firstDraftMono.csv', index=False)\n"
   ],
   "metadata": {
    "collapsed": false
   }
  },
  {
   "cell_type": "code",
   "execution_count": 85,
   "outputs": [
    {
     "data": {
      "text/plain": "                          index  Name                       Model  Length  \\\n0            Bavaria Cruiser 46    76          Bavaria Cruiser 46     46'   \n1           Beneteau Oceanis 45    44         Beneteau Oceanis 45     45'   \n2                   Jeanneau 53    43                 Jeanneau 53     53'   \n3    Jeanneau Sun Odyssey 54 DS    42  Jeanneau Sun Odyssey 54 DS     NaN   \n4            Bavaria 50 Cruiser    40          Bavaria 50 Cruiser  21.08'   \n..                          ...   ...                         ...     ...   \n463                  Dufour 425     1                  Dufour 425     NaN   \n464         Grand Soleil 37 B&C     1         Grand Soleil 37 B&C     NaN   \n465         Grand Soleil 40 B&C     1         Grand Soleil 40 B&C     NaN   \n466    Grand Soleil 46 Jezequel     1    Grand Soleil 46 Jezequel     NaN   \n467               X-Yachts X4.6     1               X-Yachts X4.6     NaN   \n\n      Beam   Draft    Material      Hull         Rigging  Cabins  \n0    4.35'   2.10'  fiberglass  monohull           other     4.0  \n1    14.9'    7.5'  fiberglass  monohull  masthead sloop     3.0  \n2    15.6'  5'10\"'  fiberglass  monohull             NaN     3.0  \n3      NaN     NaN         NaN       NaN             NaN     NaN  \n4    15.2'    6.2'  fiberglass  monohull             NaN     NaN  \n..     ...     ...         ...       ...             ...     ...  \n463    NaN     NaN         NaN       NaN             NaN     NaN  \n464    NaN     NaN         NaN       NaN             NaN     NaN  \n465    NaN     NaN         NaN       NaN             NaN     NaN  \n466    NaN     NaN         NaN       NaN             NaN     NaN  \n467    NaN     NaN         NaN       NaN             NaN     NaN  \n\n[468 rows x 10 columns]",
      "text/html": "<div>\n<style scoped>\n    .dataframe tbody tr th:only-of-type {\n        vertical-align: middle;\n    }\n\n    .dataframe tbody tr th {\n        vertical-align: top;\n    }\n\n    .dataframe thead th {\n        text-align: right;\n    }\n</style>\n<table border=\"1\" class=\"dataframe\">\n  <thead>\n    <tr style=\"text-align: right;\">\n      <th></th>\n      <th>index</th>\n      <th>Name</th>\n      <th>Model</th>\n      <th>Length</th>\n      <th>Beam</th>\n      <th>Draft</th>\n      <th>Material</th>\n      <th>Hull</th>\n      <th>Rigging</th>\n      <th>Cabins</th>\n    </tr>\n  </thead>\n  <tbody>\n    <tr>\n      <th>0</th>\n      <td>Bavaria Cruiser 46</td>\n      <td>76</td>\n      <td>Bavaria Cruiser 46</td>\n      <td>46'</td>\n      <td>4.35'</td>\n      <td>2.10'</td>\n      <td>fiberglass</td>\n      <td>monohull</td>\n      <td>other</td>\n      <td>4.0</td>\n    </tr>\n    <tr>\n      <th>1</th>\n      <td>Beneteau Oceanis 45</td>\n      <td>44</td>\n      <td>Beneteau Oceanis 45</td>\n      <td>45'</td>\n      <td>14.9'</td>\n      <td>7.5'</td>\n      <td>fiberglass</td>\n      <td>monohull</td>\n      <td>masthead sloop</td>\n      <td>3.0</td>\n    </tr>\n    <tr>\n      <th>2</th>\n      <td>Jeanneau 53</td>\n      <td>43</td>\n      <td>Jeanneau 53</td>\n      <td>53'</td>\n      <td>15.6'</td>\n      <td>5'10\"'</td>\n      <td>fiberglass</td>\n      <td>monohull</td>\n      <td>NaN</td>\n      <td>3.0</td>\n    </tr>\n    <tr>\n      <th>3</th>\n      <td>Jeanneau Sun Odyssey 54 DS</td>\n      <td>42</td>\n      <td>Jeanneau Sun Odyssey 54 DS</td>\n      <td>NaN</td>\n      <td>NaN</td>\n      <td>NaN</td>\n      <td>NaN</td>\n      <td>NaN</td>\n      <td>NaN</td>\n      <td>NaN</td>\n    </tr>\n    <tr>\n      <th>4</th>\n      <td>Bavaria 50 Cruiser</td>\n      <td>40</td>\n      <td>Bavaria 50 Cruiser</td>\n      <td>21.08'</td>\n      <td>15.2'</td>\n      <td>6.2'</td>\n      <td>fiberglass</td>\n      <td>monohull</td>\n      <td>NaN</td>\n      <td>NaN</td>\n    </tr>\n    <tr>\n      <th>...</th>\n      <td>...</td>\n      <td>...</td>\n      <td>...</td>\n      <td>...</td>\n      <td>...</td>\n      <td>...</td>\n      <td>...</td>\n      <td>...</td>\n      <td>...</td>\n      <td>...</td>\n    </tr>\n    <tr>\n      <th>463</th>\n      <td>Dufour 425</td>\n      <td>1</td>\n      <td>Dufour 425</td>\n      <td>NaN</td>\n      <td>NaN</td>\n      <td>NaN</td>\n      <td>NaN</td>\n      <td>NaN</td>\n      <td>NaN</td>\n      <td>NaN</td>\n    </tr>\n    <tr>\n      <th>464</th>\n      <td>Grand Soleil 37 B&amp;C</td>\n      <td>1</td>\n      <td>Grand Soleil 37 B&amp;C</td>\n      <td>NaN</td>\n      <td>NaN</td>\n      <td>NaN</td>\n      <td>NaN</td>\n      <td>NaN</td>\n      <td>NaN</td>\n      <td>NaN</td>\n    </tr>\n    <tr>\n      <th>465</th>\n      <td>Grand Soleil 40 B&amp;C</td>\n      <td>1</td>\n      <td>Grand Soleil 40 B&amp;C</td>\n      <td>NaN</td>\n      <td>NaN</td>\n      <td>NaN</td>\n      <td>NaN</td>\n      <td>NaN</td>\n      <td>NaN</td>\n      <td>NaN</td>\n    </tr>\n    <tr>\n      <th>466</th>\n      <td>Grand Soleil 46 Jezequel</td>\n      <td>1</td>\n      <td>Grand Soleil 46 Jezequel</td>\n      <td>NaN</td>\n      <td>NaN</td>\n      <td>NaN</td>\n      <td>NaN</td>\n      <td>NaN</td>\n      <td>NaN</td>\n      <td>NaN</td>\n    </tr>\n    <tr>\n      <th>467</th>\n      <td>X-Yachts X4.6</td>\n      <td>1</td>\n      <td>X-Yachts X4.6</td>\n      <td>NaN</td>\n      <td>NaN</td>\n      <td>NaN</td>\n      <td>NaN</td>\n      <td>NaN</td>\n      <td>NaN</td>\n      <td>NaN</td>\n    </tr>\n  </tbody>\n</table>\n<p>468 rows × 10 columns</p>\n</div>"
     },
     "execution_count": 85,
     "metadata": {},
     "output_type": "execute_result"
    }
   ],
   "source": [
    "df2"
   ],
   "metadata": {
    "collapsed": false
   }
  },
  {
   "cell_type": "code",
   "execution_count": 88,
   "outputs": [
    {
     "data": {
      "text/plain": "Index(['index', 'Name', 'Model', 'Length', 'Beam', 'Draft', 'Material', 'Hull',\n       'Rigging', 'Cabins'],\n      dtype='object')"
     },
     "execution_count": 88,
     "metadata": {},
     "output_type": "execute_result"
    }
   ],
   "source": [
    "df2.columns"
   ],
   "metadata": {
    "collapsed": false
   }
  },
  {
   "cell_type": "code",
   "execution_count": 89,
   "outputs": [],
   "source": [
    "df1 = df1[['Model', 'Length', 'Beam', 'Draft', 'Material', 'Hull',\n",
    "       'Rigging', 'Cabins']]"
   ],
   "metadata": {
    "collapsed": false
   }
  },
  {
   "cell_type": "code",
   "execution_count": 90,
   "outputs": [],
   "source": [
    "df1.to_csv('data/firstDraftDS.csv', index=False)"
   ],
   "metadata": {
    "collapsed": false
   }
  },
  {
   "cell_type": "code",
   "execution_count": 111,
   "outputs": [
    {
     "data": {
      "text/plain": "                           Name  Count                       Model  Length  \\\n0            Bavaria Cruiser 46     76          Bavaria Cruiser 46     46'   \n1           Beneteau Oceanis 45     44         Beneteau Oceanis 45     45'   \n2                   Jeanneau 53     43                 Jeanneau 53     53'   \n3    Jeanneau Sun Odyssey 54 DS     42  Jeanneau Sun Odyssey 54 DS     NaN   \n4            Bavaria 50 Cruiser     40          Bavaria 50 Cruiser  21.08'   \n..                          ...    ...                         ...     ...   \n463                  Dufour 425      1                  Dufour 425     NaN   \n464         Grand Soleil 37 B&C      1         Grand Soleil 37 B&C     NaN   \n465         Grand Soleil 40 B&C      1         Grand Soleil 40 B&C     NaN   \n466    Grand Soleil 46 Jezequel      1    Grand Soleil 46 Jezequel     NaN   \n467               X-Yachts X4.6      1               X-Yachts X4.6     NaN   \n\n      Beam   Draft    Material      Hull         Rigging  Cabins  \n0    4.35'   2.10'  fiberglass  monohull           other     4.0  \n1    14.9'    7.5'  fiberglass  monohull  masthead sloop     3.0  \n2    15.6'  5'10\"'  fiberglass  monohull             NaN     3.0  \n3      NaN     NaN         NaN       NaN             NaN     NaN  \n4    15.2'    6.2'  fiberglass  monohull             NaN     NaN  \n..     ...     ...         ...       ...             ...     ...  \n463    NaN     NaN         NaN       NaN             NaN     NaN  \n464    NaN     NaN         NaN       NaN             NaN     NaN  \n465    NaN     NaN         NaN       NaN             NaN     NaN  \n466    NaN     NaN         NaN       NaN             NaN     NaN  \n467    NaN     NaN         NaN       NaN             NaN     NaN  \n\n[468 rows x 10 columns]",
      "text/html": "<div>\n<style scoped>\n    .dataframe tbody tr th:only-of-type {\n        vertical-align: middle;\n    }\n\n    .dataframe tbody tr th {\n        vertical-align: top;\n    }\n\n    .dataframe thead th {\n        text-align: right;\n    }\n</style>\n<table border=\"1\" class=\"dataframe\">\n  <thead>\n    <tr style=\"text-align: right;\">\n      <th></th>\n      <th>Name</th>\n      <th>Count</th>\n      <th>Model</th>\n      <th>Length</th>\n      <th>Beam</th>\n      <th>Draft</th>\n      <th>Material</th>\n      <th>Hull</th>\n      <th>Rigging</th>\n      <th>Cabins</th>\n    </tr>\n  </thead>\n  <tbody>\n    <tr>\n      <th>0</th>\n      <td>Bavaria Cruiser 46</td>\n      <td>76</td>\n      <td>Bavaria Cruiser 46</td>\n      <td>46'</td>\n      <td>4.35'</td>\n      <td>2.10'</td>\n      <td>fiberglass</td>\n      <td>monohull</td>\n      <td>other</td>\n      <td>4.0</td>\n    </tr>\n    <tr>\n      <th>1</th>\n      <td>Beneteau Oceanis 45</td>\n      <td>44</td>\n      <td>Beneteau Oceanis 45</td>\n      <td>45'</td>\n      <td>14.9'</td>\n      <td>7.5'</td>\n      <td>fiberglass</td>\n      <td>monohull</td>\n      <td>masthead sloop</td>\n      <td>3.0</td>\n    </tr>\n    <tr>\n      <th>2</th>\n      <td>Jeanneau 53</td>\n      <td>43</td>\n      <td>Jeanneau 53</td>\n      <td>53'</td>\n      <td>15.6'</td>\n      <td>5'10\"'</td>\n      <td>fiberglass</td>\n      <td>monohull</td>\n      <td>NaN</td>\n      <td>3.0</td>\n    </tr>\n    <tr>\n      <th>3</th>\n      <td>Jeanneau Sun Odyssey 54 DS</td>\n      <td>42</td>\n      <td>Jeanneau Sun Odyssey 54 DS</td>\n      <td>NaN</td>\n      <td>NaN</td>\n      <td>NaN</td>\n      <td>NaN</td>\n      <td>NaN</td>\n      <td>NaN</td>\n      <td>NaN</td>\n    </tr>\n    <tr>\n      <th>4</th>\n      <td>Bavaria 50 Cruiser</td>\n      <td>40</td>\n      <td>Bavaria 50 Cruiser</td>\n      <td>21.08'</td>\n      <td>15.2'</td>\n      <td>6.2'</td>\n      <td>fiberglass</td>\n      <td>monohull</td>\n      <td>NaN</td>\n      <td>NaN</td>\n    </tr>\n    <tr>\n      <th>...</th>\n      <td>...</td>\n      <td>...</td>\n      <td>...</td>\n      <td>...</td>\n      <td>...</td>\n      <td>...</td>\n      <td>...</td>\n      <td>...</td>\n      <td>...</td>\n      <td>...</td>\n    </tr>\n    <tr>\n      <th>463</th>\n      <td>Dufour 425</td>\n      <td>1</td>\n      <td>Dufour 425</td>\n      <td>NaN</td>\n      <td>NaN</td>\n      <td>NaN</td>\n      <td>NaN</td>\n      <td>NaN</td>\n      <td>NaN</td>\n      <td>NaN</td>\n    </tr>\n    <tr>\n      <th>464</th>\n      <td>Grand Soleil 37 B&amp;C</td>\n      <td>1</td>\n      <td>Grand Soleil 37 B&amp;C</td>\n      <td>NaN</td>\n      <td>NaN</td>\n      <td>NaN</td>\n      <td>NaN</td>\n      <td>NaN</td>\n      <td>NaN</td>\n      <td>NaN</td>\n    </tr>\n    <tr>\n      <th>465</th>\n      <td>Grand Soleil 40 B&amp;C</td>\n      <td>1</td>\n      <td>Grand Soleil 40 B&amp;C</td>\n      <td>NaN</td>\n      <td>NaN</td>\n      <td>NaN</td>\n      <td>NaN</td>\n      <td>NaN</td>\n      <td>NaN</td>\n      <td>NaN</td>\n    </tr>\n    <tr>\n      <th>466</th>\n      <td>Grand Soleil 46 Jezequel</td>\n      <td>1</td>\n      <td>Grand Soleil 46 Jezequel</td>\n      <td>NaN</td>\n      <td>NaN</td>\n      <td>NaN</td>\n      <td>NaN</td>\n      <td>NaN</td>\n      <td>NaN</td>\n      <td>NaN</td>\n    </tr>\n    <tr>\n      <th>467</th>\n      <td>X-Yachts X4.6</td>\n      <td>1</td>\n      <td>X-Yachts X4.6</td>\n      <td>NaN</td>\n      <td>NaN</td>\n      <td>NaN</td>\n      <td>NaN</td>\n      <td>NaN</td>\n      <td>NaN</td>\n      <td>NaN</td>\n    </tr>\n  </tbody>\n</table>\n<p>468 rows × 10 columns</p>\n</div>"
     },
     "execution_count": 111,
     "metadata": {},
     "output_type": "execute_result"
    }
   ],
   "source": [
    "df4 = pd.read_csv('data/firstDraftMono.csv')\n",
    "df4"
   ],
   "metadata": {
    "collapsed": false
   }
  },
  {
   "cell_type": "code",
   "execution_count": 112,
   "outputs": [
    {
     "data": {
      "text/plain": "           Make     Variant  Length \\n(ft) Geographic Region  \\\n0        Alubat    Ovni 395             41            Europe   \n1       Bavaria  38 Cruiser             38            Europe   \n2       Bavaria  38 Cruiser             38            Europe   \n3       Bavaria  38 Cruiser             38            Europe   \n4       Bavaria  38 Cruiser             38            Europe   \n...         ...         ...            ...               ...   \n2341  RM Yachts    RM 12.70             40            Europe   \n2342  RM Yachts     RM 1270             42            Europe   \n2343  Southerly          48             48            Europe   \n2344   X-Yachts          X4             43            Europe   \n2345   X-Yachts        X4.6             46            Europe   \n\n     Country/Region/State Listing Price (USD)  Year  \n0                  France            $267,233  2005  \n1                 Croatia             $75,178  2005  \n2                 Croatia             $66,825  2005  \n3                 Croatia             $54,661  2005  \n4                 Croatia             $53,447  2005  \n...                   ...                 ...   ...  \n2341               France            $406,868  2019  \n2342               France            $406,923  2019  \n2343       United Kingdom          $1,192,424  2019  \n2344       United Kingdom            $546,613  2019  \n2345             Portugal            $570,907  2019  \n\n[2346 rows x 7 columns]",
      "text/html": "<div>\n<style scoped>\n    .dataframe tbody tr th:only-of-type {\n        vertical-align: middle;\n    }\n\n    .dataframe tbody tr th {\n        vertical-align: top;\n    }\n\n    .dataframe thead th {\n        text-align: right;\n    }\n</style>\n<table border=\"1\" class=\"dataframe\">\n  <thead>\n    <tr style=\"text-align: right;\">\n      <th></th>\n      <th>Make</th>\n      <th>Variant</th>\n      <th>Length \\n(ft)</th>\n      <th>Geographic Region</th>\n      <th>Country/Region/State</th>\n      <th>Listing Price (USD)</th>\n      <th>Year</th>\n    </tr>\n  </thead>\n  <tbody>\n    <tr>\n      <th>0</th>\n      <td>Alubat</td>\n      <td>Ovni 395</td>\n      <td>41</td>\n      <td>Europe</td>\n      <td>France</td>\n      <td>$267,233</td>\n      <td>2005</td>\n    </tr>\n    <tr>\n      <th>1</th>\n      <td>Bavaria</td>\n      <td>38 Cruiser</td>\n      <td>38</td>\n      <td>Europe</td>\n      <td>Croatia</td>\n      <td>$75,178</td>\n      <td>2005</td>\n    </tr>\n    <tr>\n      <th>2</th>\n      <td>Bavaria</td>\n      <td>38 Cruiser</td>\n      <td>38</td>\n      <td>Europe</td>\n      <td>Croatia</td>\n      <td>$66,825</td>\n      <td>2005</td>\n    </tr>\n    <tr>\n      <th>3</th>\n      <td>Bavaria</td>\n      <td>38 Cruiser</td>\n      <td>38</td>\n      <td>Europe</td>\n      <td>Croatia</td>\n      <td>$54,661</td>\n      <td>2005</td>\n    </tr>\n    <tr>\n      <th>4</th>\n      <td>Bavaria</td>\n      <td>38 Cruiser</td>\n      <td>38</td>\n      <td>Europe</td>\n      <td>Croatia</td>\n      <td>$53,447</td>\n      <td>2005</td>\n    </tr>\n    <tr>\n      <th>...</th>\n      <td>...</td>\n      <td>...</td>\n      <td>...</td>\n      <td>...</td>\n      <td>...</td>\n      <td>...</td>\n      <td>...</td>\n    </tr>\n    <tr>\n      <th>2341</th>\n      <td>RM Yachts</td>\n      <td>RM 12.70</td>\n      <td>40</td>\n      <td>Europe</td>\n      <td>France</td>\n      <td>$406,868</td>\n      <td>2019</td>\n    </tr>\n    <tr>\n      <th>2342</th>\n      <td>RM Yachts</td>\n      <td>RM 1270</td>\n      <td>42</td>\n      <td>Europe</td>\n      <td>France</td>\n      <td>$406,923</td>\n      <td>2019</td>\n    </tr>\n    <tr>\n      <th>2343</th>\n      <td>Southerly</td>\n      <td>48</td>\n      <td>48</td>\n      <td>Europe</td>\n      <td>United Kingdom</td>\n      <td>$1,192,424</td>\n      <td>2019</td>\n    </tr>\n    <tr>\n      <th>2344</th>\n      <td>X-Yachts</td>\n      <td>X4</td>\n      <td>43</td>\n      <td>Europe</td>\n      <td>United Kingdom</td>\n      <td>$546,613</td>\n      <td>2019</td>\n    </tr>\n    <tr>\n      <th>2345</th>\n      <td>X-Yachts</td>\n      <td>X4.6</td>\n      <td>46</td>\n      <td>Europe</td>\n      <td>Portugal</td>\n      <td>$570,907</td>\n      <td>2019</td>\n    </tr>\n  </tbody>\n</table>\n<p>2346 rows × 7 columns</p>\n</div>"
     },
     "execution_count": 112,
     "metadata": {},
     "output_type": "execute_result"
    }
   ],
   "source": [
    "df5 = pd.read_csv('data/Mono.csv')\n",
    "df5"
   ],
   "metadata": {
    "collapsed": false
   }
  },
  {
   "cell_type": "code",
   "execution_count": 113,
   "outputs": [],
   "source": [
    "df5['Model'] = df5['Make'] + ' ' + df5['Variant']"
   ],
   "metadata": {
    "collapsed": false
   }
  },
  {
   "cell_type": "code",
   "execution_count": 114,
   "outputs": [],
   "source": [
    "dfMerge = pd.merge(df5, df4, on='Model')"
   ],
   "metadata": {
    "collapsed": false
   }
  },
  {
   "cell_type": "code",
   "execution_count": 115,
   "outputs": [
    {
     "data": {
      "text/plain": "           Make     Variant  Length \\n(ft) Geographic Region  \\\n0        Alubat    Ovni 395             41            Europe   \n1        Alubat    Ovni 395             41            Europe   \n2        Alubat    Ovni 395             41            Europe   \n3       Bavaria  38 Cruiser             38            Europe   \n4       Bavaria  38 Cruiser             38            Europe   \n...         ...         ...            ...               ...   \n2341  RM Yachts    RM 12.70             40            Europe   \n2342  RM Yachts     RM 1270             42            Europe   \n2343  Southerly          48             48            Europe   \n2344   X-Yachts          X4             43            Europe   \n2345   X-Yachts        X4.6             46            Europe   \n\n     Country/Region/State Listing Price (USD)  Year               Model  \\\n0                  France            $267,233  2005     Alubat Ovni 395   \n1                   Italy            $194,351  2007     Alubat Ovni 395   \n2                  France            $412,941  2017     Alubat Ovni 395   \n3                 Croatia             $75,178  2005  Bavaria 38 Cruiser   \n4                 Croatia             $66,825  2005  Bavaria 38 Cruiser   \n...                   ...                 ...   ...                 ...   \n2341               France            $406,868  2019  RM Yachts RM 12.70   \n2342               France            $406,923  2019   RM Yachts RM 1270   \n2343       United Kingdom          $1,192,424  2019        Southerly 48   \n2344       United Kingdom            $546,613  2019         X-Yachts X4   \n2345             Portugal            $570,907  2019       X-Yachts X4.6   \n\n                    Name  Count Length Beam Draft Material Hull Rigging  \\\n0        Alubat Ovni 395      3    NaN  NaN   NaN      NaN  NaN     NaN   \n1        Alubat Ovni 395      3    NaN  NaN   NaN      NaN  NaN     NaN   \n2        Alubat Ovni 395      3    NaN  NaN   NaN      NaN  NaN     NaN   \n3     Bavaria 38 Cruiser     11    NaN  NaN   NaN      NaN  NaN     NaN   \n4     Bavaria 38 Cruiser     11    NaN  NaN   NaN      NaN  NaN     NaN   \n...                  ...    ...    ...  ...   ...      ...  ...     ...   \n2341  RM Yachts RM 12.70      1    NaN  NaN   NaN      NaN  NaN     NaN   \n2342   RM Yachts RM 1270      1    NaN  NaN   NaN      NaN  NaN     NaN   \n2343        Southerly 48      1    NaN  NaN   NaN      NaN  NaN     NaN   \n2344         X-Yachts X4      1    NaN  NaN   NaN      NaN  NaN     NaN   \n2345       X-Yachts X4.6      1    NaN  NaN   NaN      NaN  NaN     NaN   \n\n      Cabins  \n0        NaN  \n1        NaN  \n2        NaN  \n3        NaN  \n4        NaN  \n...      ...  \n2341     NaN  \n2342     NaN  \n2343     NaN  \n2344     NaN  \n2345     NaN  \n\n[2346 rows x 17 columns]",
      "text/html": "<div>\n<style scoped>\n    .dataframe tbody tr th:only-of-type {\n        vertical-align: middle;\n    }\n\n    .dataframe tbody tr th {\n        vertical-align: top;\n    }\n\n    .dataframe thead th {\n        text-align: right;\n    }\n</style>\n<table border=\"1\" class=\"dataframe\">\n  <thead>\n    <tr style=\"text-align: right;\">\n      <th></th>\n      <th>Make</th>\n      <th>Variant</th>\n      <th>Length \\n(ft)</th>\n      <th>Geographic Region</th>\n      <th>Country/Region/State</th>\n      <th>Listing Price (USD)</th>\n      <th>Year</th>\n      <th>Model</th>\n      <th>Name</th>\n      <th>Count</th>\n      <th>Length</th>\n      <th>Beam</th>\n      <th>Draft</th>\n      <th>Material</th>\n      <th>Hull</th>\n      <th>Rigging</th>\n      <th>Cabins</th>\n    </tr>\n  </thead>\n  <tbody>\n    <tr>\n      <th>0</th>\n      <td>Alubat</td>\n      <td>Ovni 395</td>\n      <td>41</td>\n      <td>Europe</td>\n      <td>France</td>\n      <td>$267,233</td>\n      <td>2005</td>\n      <td>Alubat Ovni 395</td>\n      <td>Alubat Ovni 395</td>\n      <td>3</td>\n      <td>NaN</td>\n      <td>NaN</td>\n      <td>NaN</td>\n      <td>NaN</td>\n      <td>NaN</td>\n      <td>NaN</td>\n      <td>NaN</td>\n    </tr>\n    <tr>\n      <th>1</th>\n      <td>Alubat</td>\n      <td>Ovni 395</td>\n      <td>41</td>\n      <td>Europe</td>\n      <td>Italy</td>\n      <td>$194,351</td>\n      <td>2007</td>\n      <td>Alubat Ovni 395</td>\n      <td>Alubat Ovni 395</td>\n      <td>3</td>\n      <td>NaN</td>\n      <td>NaN</td>\n      <td>NaN</td>\n      <td>NaN</td>\n      <td>NaN</td>\n      <td>NaN</td>\n      <td>NaN</td>\n    </tr>\n    <tr>\n      <th>2</th>\n      <td>Alubat</td>\n      <td>Ovni 395</td>\n      <td>41</td>\n      <td>Europe</td>\n      <td>France</td>\n      <td>$412,941</td>\n      <td>2017</td>\n      <td>Alubat Ovni 395</td>\n      <td>Alubat Ovni 395</td>\n      <td>3</td>\n      <td>NaN</td>\n      <td>NaN</td>\n      <td>NaN</td>\n      <td>NaN</td>\n      <td>NaN</td>\n      <td>NaN</td>\n      <td>NaN</td>\n    </tr>\n    <tr>\n      <th>3</th>\n      <td>Bavaria</td>\n      <td>38 Cruiser</td>\n      <td>38</td>\n      <td>Europe</td>\n      <td>Croatia</td>\n      <td>$75,178</td>\n      <td>2005</td>\n      <td>Bavaria 38 Cruiser</td>\n      <td>Bavaria 38 Cruiser</td>\n      <td>11</td>\n      <td>NaN</td>\n      <td>NaN</td>\n      <td>NaN</td>\n      <td>NaN</td>\n      <td>NaN</td>\n      <td>NaN</td>\n      <td>NaN</td>\n    </tr>\n    <tr>\n      <th>4</th>\n      <td>Bavaria</td>\n      <td>38 Cruiser</td>\n      <td>38</td>\n      <td>Europe</td>\n      <td>Croatia</td>\n      <td>$66,825</td>\n      <td>2005</td>\n      <td>Bavaria 38 Cruiser</td>\n      <td>Bavaria 38 Cruiser</td>\n      <td>11</td>\n      <td>NaN</td>\n      <td>NaN</td>\n      <td>NaN</td>\n      <td>NaN</td>\n      <td>NaN</td>\n      <td>NaN</td>\n      <td>NaN</td>\n    </tr>\n    <tr>\n      <th>...</th>\n      <td>...</td>\n      <td>...</td>\n      <td>...</td>\n      <td>...</td>\n      <td>...</td>\n      <td>...</td>\n      <td>...</td>\n      <td>...</td>\n      <td>...</td>\n      <td>...</td>\n      <td>...</td>\n      <td>...</td>\n      <td>...</td>\n      <td>...</td>\n      <td>...</td>\n      <td>...</td>\n      <td>...</td>\n    </tr>\n    <tr>\n      <th>2341</th>\n      <td>RM Yachts</td>\n      <td>RM 12.70</td>\n      <td>40</td>\n      <td>Europe</td>\n      <td>France</td>\n      <td>$406,868</td>\n      <td>2019</td>\n      <td>RM Yachts RM 12.70</td>\n      <td>RM Yachts RM 12.70</td>\n      <td>1</td>\n      <td>NaN</td>\n      <td>NaN</td>\n      <td>NaN</td>\n      <td>NaN</td>\n      <td>NaN</td>\n      <td>NaN</td>\n      <td>NaN</td>\n    </tr>\n    <tr>\n      <th>2342</th>\n      <td>RM Yachts</td>\n      <td>RM 1270</td>\n      <td>42</td>\n      <td>Europe</td>\n      <td>France</td>\n      <td>$406,923</td>\n      <td>2019</td>\n      <td>RM Yachts RM 1270</td>\n      <td>RM Yachts RM 1270</td>\n      <td>1</td>\n      <td>NaN</td>\n      <td>NaN</td>\n      <td>NaN</td>\n      <td>NaN</td>\n      <td>NaN</td>\n      <td>NaN</td>\n      <td>NaN</td>\n    </tr>\n    <tr>\n      <th>2343</th>\n      <td>Southerly</td>\n      <td>48</td>\n      <td>48</td>\n      <td>Europe</td>\n      <td>United Kingdom</td>\n      <td>$1,192,424</td>\n      <td>2019</td>\n      <td>Southerly 48</td>\n      <td>Southerly 48</td>\n      <td>1</td>\n      <td>NaN</td>\n      <td>NaN</td>\n      <td>NaN</td>\n      <td>NaN</td>\n      <td>NaN</td>\n      <td>NaN</td>\n      <td>NaN</td>\n    </tr>\n    <tr>\n      <th>2344</th>\n      <td>X-Yachts</td>\n      <td>X4</td>\n      <td>43</td>\n      <td>Europe</td>\n      <td>United Kingdom</td>\n      <td>$546,613</td>\n      <td>2019</td>\n      <td>X-Yachts X4</td>\n      <td>X-Yachts X4</td>\n      <td>1</td>\n      <td>NaN</td>\n      <td>NaN</td>\n      <td>NaN</td>\n      <td>NaN</td>\n      <td>NaN</td>\n      <td>NaN</td>\n      <td>NaN</td>\n    </tr>\n    <tr>\n      <th>2345</th>\n      <td>X-Yachts</td>\n      <td>X4.6</td>\n      <td>46</td>\n      <td>Europe</td>\n      <td>Portugal</td>\n      <td>$570,907</td>\n      <td>2019</td>\n      <td>X-Yachts X4.6</td>\n      <td>X-Yachts X4.6</td>\n      <td>1</td>\n      <td>NaN</td>\n      <td>NaN</td>\n      <td>NaN</td>\n      <td>NaN</td>\n      <td>NaN</td>\n      <td>NaN</td>\n      <td>NaN</td>\n    </tr>\n  </tbody>\n</table>\n<p>2346 rows × 17 columns</p>\n</div>"
     },
     "execution_count": 115,
     "metadata": {},
     "output_type": "execute_result"
    }
   ],
   "source": [
    "dfMerge\n"
   ],
   "metadata": {
    "collapsed": false
   }
  },
  {
   "cell_type": "code",
   "execution_count": 116,
   "outputs": [
    {
     "data": {
      "text/plain": "Index(['Make', 'Variant', 'Length \\n(ft)', 'Geographic Region',\n       'Country/Region/State', 'Listing Price (USD)', 'Year', 'Model', 'Name',\n       'Count', 'Length', 'Beam', 'Draft', 'Material', 'Hull', 'Rigging',\n       'Cabins'],\n      dtype='object')"
     },
     "execution_count": 116,
     "metadata": {},
     "output_type": "execute_result"
    }
   ],
   "source": [
    "dfMerge.columns"
   ],
   "metadata": {
    "collapsed": false
   }
  },
  {
   "cell_type": "code",
   "execution_count": 117,
   "outputs": [],
   "source": [
    "dfMerge = dfMerge[['Make', 'Variant', 'Length \\n(ft)', 'Geographic Region',\n",
    "       'Country/Region/State', 'Listing Price (USD)', 'Year',\n",
    "       'Count', 'Length', 'Beam', 'Draft', 'Material', 'Hull', 'Rigging',\n",
    "       'Cabins']]"
   ],
   "metadata": {
    "collapsed": false
   }
  },
  {
   "cell_type": "code",
   "execution_count": 118,
   "outputs": [],
   "source": [
    "dfMerge.to_csv('data/firstDraftMono.csv', index=False)"
   ],
   "metadata": {
    "collapsed": false
   }
  },
  {
   "cell_type": "code",
   "execution_count": null,
   "outputs": [],
   "source": [],
   "metadata": {
    "collapsed": false
   }
  }
 ],
 "metadata": {
  "kernelspec": {
   "display_name": "Python 3",
   "language": "python",
   "name": "python3"
  },
  "language_info": {
   "codemirror_mode": {
    "name": "ipython",
    "version": 2
   },
   "file_extension": ".py",
   "mimetype": "text/x-python",
   "name": "python",
   "nbconvert_exporter": "python",
   "pygments_lexer": "ipython2",
   "version": "2.7.6"
  }
 },
 "nbformat": 4,
 "nbformat_minor": 0
}
